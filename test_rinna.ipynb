{
  "nbformat": 4,
  "nbformat_minor": 0,
  "metadata": {
    "colab": {
      "name": "Untitled1.ipynb",
      "provenance": [],
      "authorship_tag": "ABX9TyPbGRvJpWHtSqqyK1Kv07Pn",
      "include_colab_link": true
    },
    "kernelspec": {
      "name": "python3",
      "display_name": "Python 3"
    },
    "language_info": {
      "name": "python"
    },
    "accelerator": "GPU"
  },
  "cells": [
    {
      "cell_type": "markdown",
      "metadata": {
        "id": "view-in-github",
        "colab_type": "text"
      },
      "source": [
        "<a href=\"https://colab.research.google.com/github/quasiconformal/features/blob/master/test_rinna.ipynb\" target=\"_parent\"><img src=\"https://colab.research.google.com/assets/colab-badge.svg\" alt=\"Open In Colab\"/></a>"
      ]
    },
    {
      "cell_type": "code",
      "execution_count": 1,
      "metadata": {
        "colab": {
          "base_uri": "https://localhost:8080/"
        },
        "id": "9zRc4XCS2q9p",
        "outputId": "ae0c0fcd-a66d-4603-9519-13cb11479e2c"
      },
      "outputs": [
        {
          "output_type": "stream",
          "name": "stdout",
          "text": [
            "Collecting transformers==4.4.2\n",
            "  Downloading transformers-4.4.2-py3-none-any.whl (2.0 MB)\n",
            "\u001b[K     |████████████████████████████████| 2.0 MB 6.4 MB/s \n",
            "\u001b[?25hRequirement already satisfied: numpy>=1.17 in /usr/local/lib/python3.7/dist-packages (from transformers==4.4.2) (1.19.5)\n",
            "Collecting tokenizers<0.11,>=0.10.1\n",
            "  Downloading tokenizers-0.10.3-cp37-cp37m-manylinux_2_5_x86_64.manylinux1_x86_64.manylinux_2_12_x86_64.manylinux2010_x86_64.whl (3.3 MB)\n",
            "\u001b[K     |████████████████████████████████| 3.3 MB 45.8 MB/s \n",
            "\u001b[?25hRequirement already satisfied: filelock in /usr/local/lib/python3.7/dist-packages (from transformers==4.4.2) (3.4.2)\n",
            "Collecting sacremoses\n",
            "  Downloading sacremoses-0.0.47-py2.py3-none-any.whl (895 kB)\n",
            "\u001b[K     |████████████████████████████████| 895 kB 32.7 MB/s \n",
            "\u001b[?25hRequirement already satisfied: tqdm>=4.27 in /usr/local/lib/python3.7/dist-packages (from transformers==4.4.2) (4.62.3)\n",
            "Requirement already satisfied: importlib-metadata in /usr/local/lib/python3.7/dist-packages (from transformers==4.4.2) (4.10.1)\n",
            "Requirement already satisfied: regex!=2019.12.17 in /usr/local/lib/python3.7/dist-packages (from transformers==4.4.2) (2019.12.20)\n",
            "Requirement already satisfied: requests in /usr/local/lib/python3.7/dist-packages (from transformers==4.4.2) (2.23.0)\n",
            "Requirement already satisfied: packaging in /usr/local/lib/python3.7/dist-packages (from transformers==4.4.2) (21.3)\n",
            "Requirement already satisfied: typing-extensions>=3.6.4 in /usr/local/lib/python3.7/dist-packages (from importlib-metadata->transformers==4.4.2) (3.10.0.2)\n",
            "Requirement already satisfied: zipp>=0.5 in /usr/local/lib/python3.7/dist-packages (from importlib-metadata->transformers==4.4.2) (3.7.0)\n",
            "Requirement already satisfied: pyparsing!=3.0.5,>=2.0.2 in /usr/local/lib/python3.7/dist-packages (from packaging->transformers==4.4.2) (3.0.7)\n",
            "Requirement already satisfied: certifi>=2017.4.17 in /usr/local/lib/python3.7/dist-packages (from requests->transformers==4.4.2) (2021.10.8)\n",
            "Requirement already satisfied: urllib3!=1.25.0,!=1.25.1,<1.26,>=1.21.1 in /usr/local/lib/python3.7/dist-packages (from requests->transformers==4.4.2) (1.24.3)\n",
            "Requirement already satisfied: idna<3,>=2.5 in /usr/local/lib/python3.7/dist-packages (from requests->transformers==4.4.2) (2.10)\n",
            "Requirement already satisfied: chardet<4,>=3.0.2 in /usr/local/lib/python3.7/dist-packages (from requests->transformers==4.4.2) (3.0.4)\n",
            "Requirement already satisfied: six in /usr/local/lib/python3.7/dist-packages (from sacremoses->transformers==4.4.2) (1.15.0)\n",
            "Requirement already satisfied: joblib in /usr/local/lib/python3.7/dist-packages (from sacremoses->transformers==4.4.2) (1.1.0)\n",
            "Requirement already satisfied: click in /usr/local/lib/python3.7/dist-packages (from sacremoses->transformers==4.4.2) (7.1.2)\n",
            "Installing collected packages: tokenizers, sacremoses, transformers\n",
            "Successfully installed sacremoses-0.0.47 tokenizers-0.10.3 transformers-4.4.2\n"
          ]
        }
      ],
      "source": [
        "# Huggingface Transformersのインストール\n",
        "!pip install transformers==4.4.2"
      ]
    },
    {
      "cell_type": "code",
      "source": [
        "# Sentencepieceのインストール\n",
        "!pip install sentencepiece==0.1.91"
      ],
      "metadata": {
        "colab": {
          "base_uri": "https://localhost:8080/"
        },
        "id": "0_GW5BnF236N",
        "outputId": "2c81ed79-6838-40c3-8dba-0b8c4357596e"
      },
      "execution_count": 2,
      "outputs": [
        {
          "output_type": "stream",
          "name": "stdout",
          "text": [
            "Collecting sentencepiece==0.1.91\n",
            "  Downloading sentencepiece-0.1.91-cp37-cp37m-manylinux1_x86_64.whl (1.1 MB)\n",
            "\u001b[?25l\r\u001b[K     |▎                               | 10 kB 27.4 MB/s eta 0:00:01\r\u001b[K     |▋                               | 20 kB 19.8 MB/s eta 0:00:01\r\u001b[K     |█                               | 30 kB 16.4 MB/s eta 0:00:01\r\u001b[K     |█▏                              | 40 kB 14.7 MB/s eta 0:00:01\r\u001b[K     |█▌                              | 51 kB 8.5 MB/s eta 0:00:01\r\u001b[K     |█▉                              | 61 kB 9.0 MB/s eta 0:00:01\r\u001b[K     |██▏                             | 71 kB 8.5 MB/s eta 0:00:01\r\u001b[K     |██▍                             | 81 kB 9.5 MB/s eta 0:00:01\r\u001b[K     |██▊                             | 92 kB 10.1 MB/s eta 0:00:01\r\u001b[K     |███                             | 102 kB 8.3 MB/s eta 0:00:01\r\u001b[K     |███▍                            | 112 kB 8.3 MB/s eta 0:00:01\r\u001b[K     |███▋                            | 122 kB 8.3 MB/s eta 0:00:01\r\u001b[K     |████                            | 133 kB 8.3 MB/s eta 0:00:01\r\u001b[K     |████▎                           | 143 kB 8.3 MB/s eta 0:00:01\r\u001b[K     |████▋                           | 153 kB 8.3 MB/s eta 0:00:01\r\u001b[K     |████▉                           | 163 kB 8.3 MB/s eta 0:00:01\r\u001b[K     |█████▏                          | 174 kB 8.3 MB/s eta 0:00:01\r\u001b[K     |█████▌                          | 184 kB 8.3 MB/s eta 0:00:01\r\u001b[K     |█████▉                          | 194 kB 8.3 MB/s eta 0:00:01\r\u001b[K     |██████                          | 204 kB 8.3 MB/s eta 0:00:01\r\u001b[K     |██████▍                         | 215 kB 8.3 MB/s eta 0:00:01\r\u001b[K     |██████▊                         | 225 kB 8.3 MB/s eta 0:00:01\r\u001b[K     |███████                         | 235 kB 8.3 MB/s eta 0:00:01\r\u001b[K     |███████▎                        | 245 kB 8.3 MB/s eta 0:00:01\r\u001b[K     |███████▋                        | 256 kB 8.3 MB/s eta 0:00:01\r\u001b[K     |████████                        | 266 kB 8.3 MB/s eta 0:00:01\r\u001b[K     |████████▎                       | 276 kB 8.3 MB/s eta 0:00:01\r\u001b[K     |████████▌                       | 286 kB 8.3 MB/s eta 0:00:01\r\u001b[K     |████████▉                       | 296 kB 8.3 MB/s eta 0:00:01\r\u001b[K     |█████████▏                      | 307 kB 8.3 MB/s eta 0:00:01\r\u001b[K     |█████████▌                      | 317 kB 8.3 MB/s eta 0:00:01\r\u001b[K     |█████████▊                      | 327 kB 8.3 MB/s eta 0:00:01\r\u001b[K     |██████████                      | 337 kB 8.3 MB/s eta 0:00:01\r\u001b[K     |██████████▍                     | 348 kB 8.3 MB/s eta 0:00:01\r\u001b[K     |██████████▊                     | 358 kB 8.3 MB/s eta 0:00:01\r\u001b[K     |███████████                     | 368 kB 8.3 MB/s eta 0:00:01\r\u001b[K     |███████████▎                    | 378 kB 8.3 MB/s eta 0:00:01\r\u001b[K     |███████████▋                    | 389 kB 8.3 MB/s eta 0:00:01\r\u001b[K     |████████████                    | 399 kB 8.3 MB/s eta 0:00:01\r\u001b[K     |████████████▏                   | 409 kB 8.3 MB/s eta 0:00:01\r\u001b[K     |████████████▌                   | 419 kB 8.3 MB/s eta 0:00:01\r\u001b[K     |████████████▉                   | 430 kB 8.3 MB/s eta 0:00:01\r\u001b[K     |█████████████▏                  | 440 kB 8.3 MB/s eta 0:00:01\r\u001b[K     |█████████████▍                  | 450 kB 8.3 MB/s eta 0:00:01\r\u001b[K     |█████████████▊                  | 460 kB 8.3 MB/s eta 0:00:01\r\u001b[K     |██████████████                  | 471 kB 8.3 MB/s eta 0:00:01\r\u001b[K     |██████████████▍                 | 481 kB 8.3 MB/s eta 0:00:01\r\u001b[K     |██████████████▋                 | 491 kB 8.3 MB/s eta 0:00:01\r\u001b[K     |███████████████                 | 501 kB 8.3 MB/s eta 0:00:01\r\u001b[K     |███████████████▎                | 512 kB 8.3 MB/s eta 0:00:01\r\u001b[K     |███████████████▋                | 522 kB 8.3 MB/s eta 0:00:01\r\u001b[K     |███████████████▉                | 532 kB 8.3 MB/s eta 0:00:01\r\u001b[K     |████████████████▏               | 542 kB 8.3 MB/s eta 0:00:01\r\u001b[K     |████████████████▌               | 552 kB 8.3 MB/s eta 0:00:01\r\u001b[K     |████████████████▉               | 563 kB 8.3 MB/s eta 0:00:01\r\u001b[K     |█████████████████               | 573 kB 8.3 MB/s eta 0:00:01\r\u001b[K     |█████████████████▍              | 583 kB 8.3 MB/s eta 0:00:01\r\u001b[K     |█████████████████▊              | 593 kB 8.3 MB/s eta 0:00:01\r\u001b[K     |██████████████████              | 604 kB 8.3 MB/s eta 0:00:01\r\u001b[K     |██████████████████▎             | 614 kB 8.3 MB/s eta 0:00:01\r\u001b[K     |██████████████████▋             | 624 kB 8.3 MB/s eta 0:00:01\r\u001b[K     |███████████████████             | 634 kB 8.3 MB/s eta 0:00:01\r\u001b[K     |███████████████████▎            | 645 kB 8.3 MB/s eta 0:00:01\r\u001b[K     |███████████████████▌            | 655 kB 8.3 MB/s eta 0:00:01\r\u001b[K     |███████████████████▉            | 665 kB 8.3 MB/s eta 0:00:01\r\u001b[K     |████████████████████▏           | 675 kB 8.3 MB/s eta 0:00:01\r\u001b[K     |████████████████████▌           | 686 kB 8.3 MB/s eta 0:00:01\r\u001b[K     |████████████████████▊           | 696 kB 8.3 MB/s eta 0:00:01\r\u001b[K     |█████████████████████           | 706 kB 8.3 MB/s eta 0:00:01\r\u001b[K     |█████████████████████▍          | 716 kB 8.3 MB/s eta 0:00:01\r\u001b[K     |█████████████████████▋          | 727 kB 8.3 MB/s eta 0:00:01\r\u001b[K     |██████████████████████          | 737 kB 8.3 MB/s eta 0:00:01\r\u001b[K     |██████████████████████▎         | 747 kB 8.3 MB/s eta 0:00:01\r\u001b[K     |██████████████████████▋         | 757 kB 8.3 MB/s eta 0:00:01\r\u001b[K     |██████████████████████▉         | 768 kB 8.3 MB/s eta 0:00:01\r\u001b[K     |███████████████████████▏        | 778 kB 8.3 MB/s eta 0:00:01\r\u001b[K     |███████████████████████▌        | 788 kB 8.3 MB/s eta 0:00:01\r\u001b[K     |███████████████████████▉        | 798 kB 8.3 MB/s eta 0:00:01\r\u001b[K     |████████████████████████        | 808 kB 8.3 MB/s eta 0:00:01\r\u001b[K     |████████████████████████▍       | 819 kB 8.3 MB/s eta 0:00:01\r\u001b[K     |████████████████████████▊       | 829 kB 8.3 MB/s eta 0:00:01\r\u001b[K     |█████████████████████████       | 839 kB 8.3 MB/s eta 0:00:01\r\u001b[K     |█████████████████████████▎      | 849 kB 8.3 MB/s eta 0:00:01\r\u001b[K     |█████████████████████████▋      | 860 kB 8.3 MB/s eta 0:00:01\r\u001b[K     |██████████████████████████      | 870 kB 8.3 MB/s eta 0:00:01\r\u001b[K     |██████████████████████████▎     | 880 kB 8.3 MB/s eta 0:00:01\r\u001b[K     |██████████████████████████▌     | 890 kB 8.3 MB/s eta 0:00:01\r\u001b[K     |██████████████████████████▉     | 901 kB 8.3 MB/s eta 0:00:01\r\u001b[K     |███████████████████████████▏    | 911 kB 8.3 MB/s eta 0:00:01\r\u001b[K     |███████████████████████████▌    | 921 kB 8.3 MB/s eta 0:00:01\r\u001b[K     |███████████████████████████▊    | 931 kB 8.3 MB/s eta 0:00:01\r\u001b[K     |████████████████████████████    | 942 kB 8.3 MB/s eta 0:00:01\r\u001b[K     |████████████████████████████▍   | 952 kB 8.3 MB/s eta 0:00:01\r\u001b[K     |████████████████████████████▊   | 962 kB 8.3 MB/s eta 0:00:01\r\u001b[K     |█████████████████████████████   | 972 kB 8.3 MB/s eta 0:00:01\r\u001b[K     |█████████████████████████████▎  | 983 kB 8.3 MB/s eta 0:00:01\r\u001b[K     |█████████████████████████████▋  | 993 kB 8.3 MB/s eta 0:00:01\r\u001b[K     |██████████████████████████████  | 1.0 MB 8.3 MB/s eta 0:00:01\r\u001b[K     |██████████████████████████████▏ | 1.0 MB 8.3 MB/s eta 0:00:01\r\u001b[K     |██████████████████████████████▌ | 1.0 MB 8.3 MB/s eta 0:00:01\r\u001b[K     |██████████████████████████████▉ | 1.0 MB 8.3 MB/s eta 0:00:01\r\u001b[K     |███████████████████████████████▏| 1.0 MB 8.3 MB/s eta 0:00:01\r\u001b[K     |███████████████████████████████▍| 1.1 MB 8.3 MB/s eta 0:00:01\r\u001b[K     |███████████████████████████████▊| 1.1 MB 8.3 MB/s eta 0:00:01\r\u001b[K     |████████████████████████████████| 1.1 MB 8.3 MB/s \n",
            "\u001b[?25hInstalling collected packages: sentencepiece\n",
            "Successfully installed sentencepiece-0.1.91\n"
          ]
        }
      ]
    }
  ]
}