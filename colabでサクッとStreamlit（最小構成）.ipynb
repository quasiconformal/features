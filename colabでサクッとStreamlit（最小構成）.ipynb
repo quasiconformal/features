{
  "nbformat": 4,
  "nbformat_minor": 0,
  "metadata": {
    "colab": {
      "name": "colabでサクッとStreamlit（最小構成）",
      "provenance": [],
      "collapsed_sections": [],
      "include_colab_link": true
    },
    "kernelspec": {
      "name": "python3",
      "display_name": "Python 3"
    },
    "language_info": {
      "name": "python"
    }
  },
  "cells": [
    {
      "cell_type": "markdown",
      "metadata": {
        "id": "view-in-github",
        "colab_type": "text"
      },
      "source": [
        "<a href=\"https://colab.research.google.com/github/quasiconformal/features/blob/master/colab%E3%81%A7%E3%82%B5%E3%82%AF%E3%83%83%E3%81%A8Streamlit%EF%BC%88%E6%9C%80%E5%B0%8F%E6%A7%8B%E6%88%90%EF%BC%89.ipynb\" target=\"_parent\"><img src=\"https://colab.research.google.com/assets/colab-badge.svg\" alt=\"Open In Colab\"/></a>"
      ]
    },
    {
      "cell_type": "markdown",
      "source": [
        "[Streamlit API reference](https://docs.streamlit.io/library/api-reference)\n",
        "\n",
        "[Streamlit configuration](https://docs.streamlit.io/library/advanced-features/configuration)"
      ],
      "metadata": {
        "id": "zzAwS2UPPWGC"
      }
    },
    {
      "cell_type": "code",
      "source": [
        "!pip install streamlit"
      ],
      "metadata": {
        "id": "R0ISPZ9ZN9Dh"
      },
      "execution_count": null,
      "outputs": []
    },
    {
      "cell_type": "code",
      "source": [
        "%%writefile app.py\n",
        "import streamlit as st\n",
        "st.title(\"Hello World !\")"
      ],
      "metadata": {
        "id": "QdiCbSmONOJg"
      },
      "execution_count": null,
      "outputs": []
    },
    {
      "cell_type": "code",
      "source": [
        "from google.colab import files\n",
        "files.view(\"/content\")\n",
        "files.view(\"app.py\")"
      ],
      "metadata": {
        "id": "34SRW1wmNnI6"
      },
      "execution_count": null,
      "outputs": []
    },
    {
      "cell_type": "code",
      "execution_count": null,
      "metadata": {
        "id": "8Fez2MmOMwA5"
      },
      "outputs": [],
      "source": [
        "!streamlit run app.py & sleep 3 && npx localtunnel --port 8501"
      ]
    }
  ]
}